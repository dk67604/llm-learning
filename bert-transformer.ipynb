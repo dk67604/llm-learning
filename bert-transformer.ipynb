{
 "cells": [
  {
   "cell_type": "code",
   "execution_count": 1,
   "id": "803741e4-697b-4535-8271-51e78b125eb9",
   "metadata": {},
   "outputs": [
    {
     "name": "stdout",
     "output_type": "stream",
     "text": [
      "\u001b[33m  WARNING: The scripts huggingface-cli and tiny-agents are installed in '/home/devuser/.local/bin' which is not on PATH.\n",
      "  Consider adding this directory to PATH or, if you prefer to suppress this warning, use --no-warn-script-location.\u001b[0m\u001b[33m\n",
      "\u001b[0m\u001b[33m  WARNING: The scripts transformers and transformers-cli are installed in '/home/devuser/.local/bin' which is not on PATH.\n",
      "  Consider adding this directory to PATH or, if you prefer to suppress this warning, use --no-warn-script-location.\u001b[0m\u001b[33m\n",
      "\u001b[0m\u001b[33m  WARNING: The script slugify is installed in '/home/devuser/.local/bin' which is not on PATH.\n",
      "  Consider adding this directory to PATH or, if you prefer to suppress this warning, use --no-warn-script-location.\u001b[0m\u001b[33m\n",
      "\u001b[0m\u001b[33m  WARNING: The script kaggle is installed in '/home/devuser/.local/bin' which is not on PATH.\n",
      "  Consider adding this directory to PATH or, if you prefer to suppress this warning, use --no-warn-script-location.\u001b[0m\u001b[33m\n",
      "\u001b[0m"
     ]
    }
   ],
   "source": [
    "!pip install transformers --quiet\n",
    "!pip install opendatasets --quiet"
   ]
  },
  {
   "cell_type": "code",
   "execution_count": 3,
   "id": "1dc74913-c821-409a-ba36-3db2f6fa81d6",
   "metadata": {},
   "outputs": [],
   "source": [
    "!pip install scikit-learn --quiet"
   ]
  },
  {
   "cell_type": "code",
   "execution_count": 1,
   "id": "0fcb235a-a0b0-4012-ad71-a86fb0a90bc3",
   "metadata": {},
   "outputs": [],
   "source": [
    "!pip install matplotlib --quiet"
   ]
  },
  {
   "cell_type": "code",
   "execution_count": 4,
   "id": "41c62df4-5f67-4d11-b97a-8b025b8cfa1a",
   "metadata": {},
   "outputs": [],
   "source": [
    "!pip install pandas --quiet"
   ]
  },
  {
   "cell_type": "code",
   "execution_count": 1,
   "id": "5b6a3459-6fc2-429e-9549-b1496a795958",
   "metadata": {},
   "outputs": [
    {
     "name": "stdout",
     "output_type": "stream",
     "text": [
      "Please provide your Kaggle credentials to download this dataset. Learn more: http://bit.ly/kaggle-creds\n",
      "Your Kaggle username:"
     ]
    },
    {
     "name": "stdout",
     "output_type": "stream",
     "text": [
      "  dharamendra13\n"
     ]
    },
    {
     "name": "stdout",
     "output_type": "stream",
     "text": [
      "Your Kaggle Key:"
     ]
    },
    {
     "name": "stdout",
     "output_type": "stream",
     "text": [
      "  ········\n"
     ]
    },
    {
     "name": "stdout",
     "output_type": "stream",
     "text": [
      "Dataset URL: https://www.kaggle.com/datasets/rmisra/news-headlines-dataset-for-sarcasm-detection\n",
      "Downloading news-headlines-dataset-for-sarcasm-detection.zip to ./news-headlines-dataset-for-sarcasm-detection\n"
     ]
    },
    {
     "name": "stderr",
     "output_type": "stream",
     "text": [
      "100%|██████████████████████████████████████████████████████████████████████████████████████████████████████████████████████████████████████████████████████████████████████████████████████████████████████████████████████████████████| 3.30M/3.30M [00:00<00:00, 1.80GB/s]"
     ]
    },
    {
     "name": "stdout",
     "output_type": "stream",
     "text": [
      "\n"
     ]
    },
    {
     "name": "stderr",
     "output_type": "stream",
     "text": [
      "\n"
     ]
    }
   ],
   "source": [
    "import opendatasets as od\n",
    "od.download('https://www.kaggle.com/datasets/rmisra/news-headlines-dataset-for-sarcasm-detection')"
   ]
  },
  {
   "cell_type": "code",
   "execution_count": null,
   "id": "de64f7d7",
   "metadata": {},
   "outputs": [],
   "source": []
  },
  {
   "cell_type": "code",
   "execution_count": 1,
   "id": "cefa6ac0-69f6-4563-b714-27bffd76623a",
   "metadata": {},
   "outputs": [
    {
     "name": "stderr",
     "output_type": "stream",
     "text": [
      "/opt/conda/lib/python3.11/site-packages/tqdm/auto.py:21: TqdmWarning: IProgress not found. Please update jupyter and ipywidgets. See https://ipywidgets.readthedocs.io/en/stable/user_install.html\n",
      "  from .autonotebook import tqdm as notebook_tqdm\n"
     ]
    }
   ],
   "source": [
    "import torch\n",
    "import torch.nn as nn\n",
    "from torch.optim import Adam\n",
    "from transformers import AutoTokenizer, AutoModel\n",
    "from torch.utils.data import Dataset, DataLoader\n",
    "from sklearn.model_selection import train_test_split\n",
    "from sklearn.metrics import accuracy_score\n",
    "import matplotlib.pyplot as plot\n",
    "import pandas as pd\n",
    "import numpy as np\n",
    "device = 'cuda' if torch.cuda.is_available() else 'cpu'"
   ]
  },
  {
   "cell_type": "code",
   "execution_count": 2,
   "id": "2ed936a6-dd09-4685-8879-6b4154a1f1f8",
   "metadata": {},
   "outputs": [
    {
     "name": "stdout",
     "output_type": "stream",
     "text": [
      "cuda\n"
     ]
    }
   ],
   "source": [
    "print(device)"
   ]
  },
  {
   "cell_type": "code",
   "execution_count": 3,
   "id": "b3407f6f-9652-40b3-a514-3b21fa5ad540",
   "metadata": {},
   "outputs": [
    {
     "name": "stdout",
     "output_type": "stream",
     "text": [
      "(26708, 2)\n"
     ]
    },
    {
     "data": {
      "text/html": [
       "<div>\n",
       "<style scoped>\n",
       "    .dataframe tbody tr th:only-of-type {\n",
       "        vertical-align: middle;\n",
       "    }\n",
       "\n",
       "    .dataframe tbody tr th {\n",
       "        vertical-align: top;\n",
       "    }\n",
       "\n",
       "    .dataframe thead th {\n",
       "        text-align: right;\n",
       "    }\n",
       "</style>\n",
       "<table border=\"1\" class=\"dataframe\">\n",
       "  <thead>\n",
       "    <tr style=\"text-align: right;\">\n",
       "      <th></th>\n",
       "      <th>headline</th>\n",
       "      <th>is_sarcastic</th>\n",
       "    </tr>\n",
       "  </thead>\n",
       "  <tbody>\n",
       "    <tr>\n",
       "      <th>0</th>\n",
       "      <td>former versace store clerk sues over secret 'b...</td>\n",
       "      <td>0</td>\n",
       "    </tr>\n",
       "    <tr>\n",
       "      <th>1</th>\n",
       "      <td>the 'roseanne' revival catches up to our thorn...</td>\n",
       "      <td>0</td>\n",
       "    </tr>\n",
       "    <tr>\n",
       "      <th>2</th>\n",
       "      <td>mom starting to fear son's web series closest ...</td>\n",
       "      <td>1</td>\n",
       "    </tr>\n",
       "    <tr>\n",
       "      <th>3</th>\n",
       "      <td>boehner just wants wife to listen, not come up...</td>\n",
       "      <td>1</td>\n",
       "    </tr>\n",
       "    <tr>\n",
       "      <th>4</th>\n",
       "      <td>j.k. rowling wishes snape happy birthday in th...</td>\n",
       "      <td>0</td>\n",
       "    </tr>\n",
       "  </tbody>\n",
       "</table>\n",
       "</div>"
      ],
      "text/plain": [
       "                                            headline  is_sarcastic\n",
       "0  former versace store clerk sues over secret 'b...             0\n",
       "1  the 'roseanne' revival catches up to our thorn...             0\n",
       "2  mom starting to fear son's web series closest ...             1\n",
       "3  boehner just wants wife to listen, not come up...             1\n",
       "4  j.k. rowling wishes snape happy birthday in th...             0"
      ]
     },
     "execution_count": 3,
     "metadata": {},
     "output_type": "execute_result"
    }
   ],
   "source": [
    "data_df = pd.read_json('news-headlines-dataset-for-sarcasm-detection/Sarcasm_Headlines_Dataset.json', lines=True)\n",
    "data_df.dropna(inplace=True)\n",
    "data_df.drop_duplicates(inplace=True)\n",
    "data_df.drop('article_link', inplace=True, axis=1)\n",
    "print(data_df.shape)\n",
    "data_df.head()"
   ]
  },
  {
   "cell_type": "code",
   "execution_count": 4,
   "id": "4031a888-ad55-442e-a88e-7e7a269b0a40",
   "metadata": {},
   "outputs": [],
   "source": [
    "X_train, X_test, Y_train, Y_test = train_test_split(np.array(data_df[\"headline\"]), np.array(data_df[\"is_sarcastic\"]), test_size=0.3)"
   ]
  },
  {
   "cell_type": "code",
   "execution_count": 5,
   "id": "f90d7b11-d0b3-4def-bfbd-93dcc4f9eebf",
   "metadata": {},
   "outputs": [],
   "source": [
    "X_val, X_test, Y_val, Y_test = train_test_split(X_test, Y_test,test_size=0.5)"
   ]
  },
  {
   "cell_type": "code",
   "execution_count": 6,
   "id": "6f5b80b2-2eb5-4f08-b986-54f01afa1853",
   "metadata": {},
   "outputs": [
    {
     "name": "stdout",
     "output_type": "stream",
     "text": [
      "Training size: 18695 Which is:  70.0 %\n",
      "Validation size: 4006 Which is:  15.0 %\n",
      "Testing size: 4007 Which is:  15.0 %\n"
     ]
    }
   ],
   "source": [
    "print(\"Training size:\", X_train.shape[0], \"Which is: \", round(X_train.shape[0]/data_df.shape[0],4) * 100, \"%\")\n",
    "print(\"Validation size:\", X_val.shape[0], \"Which is: \", round(X_val.shape[0]/data_df.shape[0],4) * 100, \"%\")\n",
    "print(\"Testing size:\", X_test.shape[0], \"Which is: \", round(X_test.shape[0]/data_df.shape[0],4) * 100, \"%\")\n"
   ]
  },
  {
   "cell_type": "code",
   "execution_count": 7,
   "id": "700e354c-e06e-4321-b0ef-a7b400507baf",
   "metadata": {},
   "outputs": [],
   "source": [
    "# Load model directly\n",
    "from transformers import AutoTokenizer, AutoModelForMaskedLM, AutoModelForSequenceClassification\n",
    "\n",
    "tokenizer = AutoTokenizer.from_pretrained(\"google-bert/bert-base-uncased\")\n",
    "bert_model = AutoModel.from_pretrained(\"google-bert/bert-base-uncased\")"
   ]
  },
  {
   "cell_type": "code",
   "execution_count": 8,
   "id": "5be1d15b-b98b-4685-ba23-0702733286d9",
   "metadata": {},
   "outputs": [],
   "source": [
    "class dataset(Dataset):\n",
    "    def __init__(self, X,Y):\n",
    "        self.X = [tokenizer(x,\n",
    "                            max_length=100,\n",
    "                            truncation= True,\n",
    "                            padding='max_length',\n",
    "                            return_tensors='pt').to(device)\n",
    "                            for x in X\n",
    "                 ]\n",
    "        self.Y = torch.tensor(Y, dtype = torch.float32).to(device)\n",
    "    def __len__(self):\n",
    "        return len(self.X)\n",
    "\n",
    "    def __getitem__(self, index):\n",
    "        return self.X[index], self.Y[index]"
   ]
  },
  {
   "cell_type": "code",
   "execution_count": 9,
   "id": "fa26fe6c-989c-4a24-ae68-7047ce7ddf7b",
   "metadata": {},
   "outputs": [],
   "source": [
    "training_data = dataset(X_train, Y_train)\n",
    "validation_data = dataset(X_val, Y_val)\n",
    "testing_data = dataset(X_test, Y_test)"
   ]
  },
  {
   "cell_type": "code",
   "execution_count": 10,
   "id": "d81a7295-39c5-4bb6-9aa9-1f8e440e5203",
   "metadata": {},
   "outputs": [],
   "source": [
    "BATCH_SIZE = 32\n",
    "EPOCHS = 10\n",
    "LR = 1e-4"
   ]
  },
  {
   "cell_type": "code",
   "execution_count": 11,
   "id": "0cfe0f5c-4041-4f4e-9644-6ac6a32f03ca",
   "metadata": {},
   "outputs": [],
   "source": [
    "train_dataloader = DataLoader(training_data, batch_size=BATCH_SIZE, shuffle=True)\n",
    "val_dataloader = DataLoader(validation_data, batch_size=BATCH_SIZE, shuffle=True)\n",
    "test_dataloader = DataLoader(testing_data, batch_size=BATCH_SIZE, shuffle=True)"
   ]
  },
  {
   "cell_type": "code",
   "execution_count": 12,
   "id": "edd2ac6c-0403-4458-a464-3b2362159d47",
   "metadata": {},
   "outputs": [],
   "source": [
    "class MyModel(nn.Module):\n",
    "    def __init__(self, bert):\n",
    "        super(MyModel, self).__init__()\n",
    "        self.bert = bert\n",
    "        self.dropout = nn.Dropout(0.25)\n",
    "        self.linear1 = nn.Linear(768, 384)\n",
    "        self.linear2 = nn.Linear(384, 1)\n",
    "        self.sigmoid = nn.Sigmoid()\n",
    "\n",
    "    def forward(self, input_ids, attention_mask, **kwargs):  # Accept extra kwargs\n",
    "        pooled_output = self.bert(input_ids=input_ids, attention_mask=attention_mask, return_dict=False)[0][:, 0]\n",
    "        output = self.dropout(pooled_output)\n",
    "        output = self.linear1(output)\n",
    "        output = self.linear2(output)\n",
    "        output = self.sigmoid(output)\n",
    "        return output\n"
   ]
  },
  {
   "cell_type": "code",
   "execution_count": 13,
   "id": "15d9c974-7768-4e29-9d66-a99054dcd8f9",
   "metadata": {},
   "outputs": [],
   "source": [
    "for param in bert_model.parameters():\n",
    "    param.requires_grad = False\n",
    "model = MyModel(bert_model).to(device)"
   ]
  },
  {
   "cell_type": "code",
   "execution_count": 14,
   "id": "4fb2f595-1593-45cd-bc57-29851bebcc69",
   "metadata": {},
   "outputs": [
    {
     "data": {
      "text/plain": [
       "MyModel(\n",
       "  (bert): BertModel(\n",
       "    (embeddings): BertEmbeddings(\n",
       "      (word_embeddings): Embedding(30522, 768, padding_idx=0)\n",
       "      (position_embeddings): Embedding(512, 768)\n",
       "      (token_type_embeddings): Embedding(2, 768)\n",
       "      (LayerNorm): LayerNorm((768,), eps=1e-12, elementwise_affine=True)\n",
       "      (dropout): Dropout(p=0.1, inplace=False)\n",
       "    )\n",
       "    (encoder): BertEncoder(\n",
       "      (layer): ModuleList(\n",
       "        (0-11): 12 x BertLayer(\n",
       "          (attention): BertAttention(\n",
       "            (self): BertSdpaSelfAttention(\n",
       "              (query): Linear(in_features=768, out_features=768, bias=True)\n",
       "              (key): Linear(in_features=768, out_features=768, bias=True)\n",
       "              (value): Linear(in_features=768, out_features=768, bias=True)\n",
       "              (dropout): Dropout(p=0.1, inplace=False)\n",
       "            )\n",
       "            (output): BertSelfOutput(\n",
       "              (dense): Linear(in_features=768, out_features=768, bias=True)\n",
       "              (LayerNorm): LayerNorm((768,), eps=1e-12, elementwise_affine=True)\n",
       "              (dropout): Dropout(p=0.1, inplace=False)\n",
       "            )\n",
       "          )\n",
       "          (intermediate): BertIntermediate(\n",
       "            (dense): Linear(in_features=768, out_features=3072, bias=True)\n",
       "            (intermediate_act_fn): GELUActivation()\n",
       "          )\n",
       "          (output): BertOutput(\n",
       "            (dense): Linear(in_features=3072, out_features=768, bias=True)\n",
       "            (LayerNorm): LayerNorm((768,), eps=1e-12, elementwise_affine=True)\n",
       "            (dropout): Dropout(p=0.1, inplace=False)\n",
       "          )\n",
       "        )\n",
       "      )\n",
       "    )\n",
       "    (pooler): BertPooler(\n",
       "      (dense): Linear(in_features=768, out_features=768, bias=True)\n",
       "      (activation): Tanh()\n",
       "    )\n",
       "  )\n",
       "  (dropout): Dropout(p=0.25, inplace=False)\n",
       "  (linear1): Linear(in_features=768, out_features=384, bias=True)\n",
       "  (linear2): Linear(in_features=384, out_features=1, bias=True)\n",
       "  (sigmoid): Sigmoid()\n",
       ")"
      ]
     },
     "execution_count": 14,
     "metadata": {},
     "output_type": "execute_result"
    }
   ],
   "source": [
    "model"
   ]
  },
  {
   "cell_type": "code",
   "execution_count": 15,
   "id": "aab92314-b454-4e8e-98f5-e8f86f7bce8a",
   "metadata": {},
   "outputs": [],
   "source": [
    "criterion = nn.BCELoss()\n",
    "optimizer = Adam(model.parameters(), lr=2e-5)"
   ]
  },
  {
   "cell_type": "code",
   "execution_count": 16,
   "id": "9e8e9bec-f945-42cc-90e6-b0a617fbc2b3",
   "metadata": {},
   "outputs": [
    {
     "name": "stdout",
     "output_type": "stream",
     "text": [
      "\n",
      "    Epoch No. 1 Train Loss: 0.3248 Train Accuracy: 73.3084\n",
      "                        Validation Loss: 0.0614 Validation Accuracy: 78.8318\n",
      "    \n",
      "\n",
      "    Epoch No. 2 Train Loss: 0.2701 Train Accuracy: 80.0909\n",
      "                        Validation Loss: 0.055 Validation Accuracy: 81.3779\n",
      "    \n",
      "\n",
      "    Epoch No. 3 Train Loss: 0.2505 Train Accuracy: 81.471\n",
      "                        Validation Loss: 0.053 Validation Accuracy: 81.1283\n",
      "    \n",
      "\n",
      "    Epoch No. 4 Train Loss: 0.2387 Train Accuracy: 82.7013\n",
      "                        Validation Loss: 0.0506 Validation Accuracy: 82.9755\n",
      "    \n",
      "\n",
      "    Epoch No. 5 Train Loss: 0.2303 Train Accuracy: 83.295\n",
      "                        Validation Loss: 0.0501 Validation Accuracy: 83.1752\n",
      "    \n",
      "\n",
      "    Epoch No. 6 Train Loss: 0.2269 Train Accuracy: 83.3966\n",
      "                        Validation Loss: 0.049 Validation Accuracy: 83.8243\n",
      "    \n",
      "\n",
      "    Epoch No. 7 Train Loss: 0.2221 Train Accuracy: 83.4073\n",
      "                        Validation Loss: 0.0479 Validation Accuracy: 83.3999\n",
      "    \n",
      "\n",
      "    Epoch No. 8 Train Loss: 0.22 Train Accuracy: 83.6962\n",
      "                        Validation Loss: 0.0486 Validation Accuracy: 83.2751\n",
      "    \n",
      "\n",
      "    Epoch No. 9 Train Loss: 0.2193 Train Accuracy: 83.509\n",
      "                        Validation Loss: 0.0473 Validation Accuracy: 83.6995\n",
      "    \n",
      "\n",
      "    Epoch No. 10 Train Loss: 0.2174 Train Accuracy: 83.7711\n",
      "                        Validation Loss: 0.0473 Validation Accuracy: 83.7244\n",
      "    \n"
     ]
    }
   ],
   "source": [
    "total_loss_train_plot = []\n",
    "total_loss_validation_plot = []\n",
    "total_acc_train_plot = []\n",
    "total_acc_validation_plot = []\n",
    "for epoch in range(EPOCHS):\n",
    "    total_acc_train = 0\n",
    "    total_loss_train = 0\n",
    "    total_acc_val = 0\n",
    "    total_loss_val = 0\n",
    "    for index, data in enumerate(train_dataloader):\n",
    "        inputs, labels = data\n",
    "        inputs.to(device)\n",
    "        labels.to(device)\n",
    "\n",
    "        prediction = model(inputs[\"input_ids\"].squeeze(1), inputs[\"attention_mask\"].squeeze(1)).squeeze(1)\n",
    "        batch_loss = criterion(prediction, labels)\n",
    "        total_loss_train += batch_loss.item()\n",
    "        acc = (prediction.round() == labels).sum().item()\n",
    "        total_acc_train += acc\n",
    "        batch_loss.backward()\n",
    "        optimizer.step()\n",
    "        optimizer.zero_grad()\n",
    "    with torch.no_grad():\n",
    "        for index, data in enumerate(val_dataloader):\n",
    "            inputs, labels = data\n",
    "            inputs.to(device)\n",
    "            labels.to(device)\n",
    "    \n",
    "            prediction = model(inputs[\"input_ids\"].squeeze(1), inputs[\"attention_mask\"].squeeze(1)).squeeze(1)\n",
    "            batch_loss = criterion(prediction, labels)\n",
    "            total_loss_val += batch_loss.item()\n",
    "            acc = (prediction.round() == labels).sum().item()\n",
    "            total_acc_val += acc\n",
    "       \n",
    "    total_loss_train_plot.append(round(total_loss_train/1000,4))\n",
    "    total_loss_validation_plot.append(round(total_loss_val/1000,4))\n",
    "    total_acc_train_plot.append(round((total_acc_train/training_data.__len__())* 100,4))\n",
    "    total_acc_validation_plot.append(round((total_acc_val/validation_data.__len__())* 100,4))\n",
    "\n",
    "    print(f\"\"\"\n",
    "    Epoch No. {epoch+1} Train Loss: {round(total_loss_train/1000,4)} Train Accuracy: {round((total_acc_train/training_data.__len__())* 100,4)}\n",
    "                        Validation Loss: {round(total_loss_val/1000,4)} Validation Accuracy: {round((total_acc_val/validation_data.__len__())* 100,4)}\n",
    "    \"\"\"\n",
    "         )"
   ]
  },
  {
   "cell_type": "code",
   "execution_count": 19,
   "id": "c4324892-ecb8-4de1-9c2a-170c01c13287",
   "metadata": {},
   "outputs": [
    {
     "name": "stdout",
     "output_type": "stream",
     "text": [
      "Accuracy Score is: 83.53%\n"
     ]
    }
   ],
   "source": [
    "\n",
    "with torch.no_grad():\n",
    "  total_loss_test = 0\n",
    "  total_acc_test = 0\n",
    "  for indx, data in enumerate(test_dataloader):\n",
    "    input, label = data\n",
    "    input.to(device)\n",
    "    label.to(device)\n",
    "\n",
    "    prediction = model(input['input_ids'].squeeze(1),\n",
    "                    input['attention_mask'].squeeze(1)).squeeze(1)\n",
    "\n",
    "    batch_loss_test = criterion(prediction.squeeze(), label.float())\n",
    "    total_loss_test += batch_loss_test.item()\n",
    "    acc = (torch.round(prediction).float() == label.float()).sum().item()\n",
    "    total_acc_test += acc\n",
    "\n",
    "print(f\"Accuracy Score is: {round((total_acc_test/X_test.shape[0])*100, 2)}%\")"
   ]
  },
  {
   "cell_type": "code",
   "execution_count": 22,
   "id": "9e34240d-3839-4741-a6dc-81de0af62e8d",
   "metadata": {},
   "outputs": [
    {
     "data": {
      "image/png": "[encoded data removed]",
      "text/plain": [
       "<Figure size 1500x500 with 2 Axes>"
      ]
     },
     "metadata": {},
     "output_type": "display_data"
    }
   ],
   "source": [
    "\n",
    "fig, axs = plot.subplots(nrows=1, ncols=2, figsize=(15, 5))\n",
    "\n",
    "axs[0].plot(total_loss_train_plot, label='Training Loss')\n",
    "axs[0].plot(total_loss_validation_plot, label='Validation Loss')\n",
    "axs[0].set_title('Training and Validation Loss over Epochs')\n",
    "axs[0].set_xlabel('Epochs')\n",
    "axs[0].set_ylabel('Loss')\n",
    "axs[0].legend()\n",
    "\n",
    "axs[1].plot(total_acc_train_plot, label='Training Accuracy')\n",
    "axs[1].plot(total_acc_validation_plot, label='Validation Accuracy')\n",
    "axs[1].set_title('Training and Validation Accuracy over Epochs')\n",
    "axs[1].set_xlabel('Epochs')\n",
    "axs[1].set_ylabel('Accuracy')\n",
    "axs[1].legend()\n",
    "\n",
    "plot.tight_layout()\n",
    "\n",
    "plot.show()\n",
    "     "
   ]
  },
  {
   "cell_type": "code",
   "execution_count": null,
   "id": "6cc08ba8-ebce-480e-a659-0cebb6e5937e",
   "metadata": {},
   "outputs": [],
   "source": []
  }
 ],
 "metadata": {
  "kernelspec": {
   "display_name": "base",
   "language": "python",
   "name": "python3"
  },
  "language_info": {
   "codemirror_mode": {
    "name": "ipython",
    "version": 3
   },
   "file_extension": ".py",
   "mimetype": "text/x-python",
   "name": "python",
   "nbconvert_exporter": "python",
   "pygments_lexer": "ipython3",
   "version": "3.11.12"
  }
 },
 "nbformat": 4,
 "nbformat_minor": 5
}
